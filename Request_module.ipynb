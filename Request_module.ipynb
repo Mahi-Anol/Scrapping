{
 "cells": [
  {
   "cell_type": "code",
   "execution_count": 2,
   "id": "7b23b562",
   "metadata": {},
   "outputs": [],
   "source": [
    "import requests"
   ]
  },
  {
   "cell_type": "code",
   "execution_count": 3,
   "id": "536b12bb",
   "metadata": {},
   "outputs": [
    {
     "name": "stdout",
     "output_type": "stream",
     "text": [
      "2.32.3\n"
     ]
    }
   ],
   "source": [
    "print(requests.__version__)"
   ]
  },
  {
   "cell_type": "markdown",
   "id": "d8596d37",
   "metadata": {},
   "source": [
    "GET METHOD"
   ]
  },
  {
   "cell_type": "code",
   "execution_count": 4,
   "id": "623cbfdf",
   "metadata": {},
   "outputs": [],
   "source": [
    "uri='https://api.github.com'"
   ]
  },
  {
   "cell_type": "code",
   "execution_count": 10,
   "id": "57dcc3c9",
   "metadata": {},
   "outputs": [],
   "source": [
    "response=requests.get(uri)"
   ]
  },
  {
   "cell_type": "code",
   "execution_count": 11,
   "id": "c7a2b5af",
   "metadata": {},
   "outputs": [
    {
     "data": {
      "text/plain": [
       "<Response [200]>"
      ]
     },
     "execution_count": 11,
     "metadata": {},
     "output_type": "execute_result"
    }
   ],
   "source": [
    "response"
   ]
  },
  {
   "cell_type": "code",
   "execution_count": 13,
   "id": "8e12263b",
   "metadata": {},
   "outputs": [
    {
     "data": {
      "text/plain": [
       "200"
      ]
     },
     "execution_count": 13,
     "metadata": {},
     "output_type": "execute_result"
    }
   ],
   "source": [
    "response.status_code"
   ]
  },
  {
   "cell_type": "code",
   "execution_count": 14,
   "id": "c3db198d",
   "metadata": {},
   "outputs": [
    {
     "data": {
      "text/plain": [
       "b'{\"current_user_url\":\"https://api.github.com/user\",\"current_user_authorizations_html_url\":\"https://github.com/settings/connections/applications{/client_id}\",\"authorizations_url\":\"https://api.github.com/authorizations\",\"code_search_url\":\"https://api.github.com/search/code?q={query}{&page,per_page,sort,order}\",\"commit_search_url\":\"https://api.github.com/search/commits?q={query}{&page,per_page,sort,order}\",\"emails_url\":\"https://api.github.com/user/emails\",\"emojis_url\":\"https://api.github.com/emojis\",\"events_url\":\"https://api.github.com/events\",\"feeds_url\":\"https://api.github.com/feeds\",\"followers_url\":\"https://api.github.com/user/followers\",\"following_url\":\"https://api.github.com/user/following{/target}\",\"gists_url\":\"https://api.github.com/gists{/gist_id}\",\"hub_url\":\"https://api.github.com/hub\",\"issue_search_url\":\"https://api.github.com/search/issues?q={query}{&page,per_page,sort,order}\",\"issues_url\":\"https://api.github.com/issues\",\"keys_url\":\"https://api.github.com/user/keys\",\"label_search_url\":\"https://api.github.com/search/labels?q={query}&repository_id={repository_id}{&page,per_page}\",\"notifications_url\":\"https://api.github.com/notifications\",\"organization_url\":\"https://api.github.com/orgs/{org}\",\"organization_repositories_url\":\"https://api.github.com/orgs/{org}/repos{?type,page,per_page,sort}\",\"organization_teams_url\":\"https://api.github.com/orgs/{org}/teams\",\"public_gists_url\":\"https://api.github.com/gists/public\",\"rate_limit_url\":\"https://api.github.com/rate_limit\",\"repository_url\":\"https://api.github.com/repos/{owner}/{repo}\",\"repository_search_url\":\"https://api.github.com/search/repositories?q={query}{&page,per_page,sort,order}\",\"current_user_repositories_url\":\"https://api.github.com/user/repos{?type,page,per_page,sort}\",\"starred_url\":\"https://api.github.com/user/starred{/owner}{/repo}\",\"starred_gists_url\":\"https://api.github.com/gists/starred\",\"topic_search_url\":\"https://api.github.com/search/topics?q={query}{&page,per_page}\",\"user_url\":\"https://api.github.com/users/{user}\",\"user_organizations_url\":\"https://api.github.com/user/orgs\",\"user_repositories_url\":\"https://api.github.com/users/{user}/repos{?type,page,per_page,sort}\",\"user_search_url\":\"https://api.github.com/search/users?q={query}{&page,per_page,sort,order}\"}'"
      ]
     },
     "execution_count": 14,
     "metadata": {},
     "output_type": "execute_result"
    }
   ],
   "source": [
    "response.content"
   ]
  },
  {
   "cell_type": "code",
   "execution_count": 15,
   "id": "fe09d6fa",
   "metadata": {},
   "outputs": [
    {
     "data": {
      "text/plain": [
       "b'{\"current_user_url\":\"https://api.github.com/user\",\"current_user_authorizations_html_url\":\"https://github.com/settings/connections/applications{/client_id}\",\"authorizations_url\":\"https://api.github.com/authorizations\",\"code_search_url\":\"https://api.github.com/search/code?q={query}{&page,per_page,sort,order}\",\"commit_search_url\":\"https://api.github.com/search/commits?q={query}{&page,per_page,sort,order}\",\"emails_url\":\"https://api.github.com/user/emails\",\"emojis_url\":\"https://api.github.com/emojis\",\"events_url\":\"https://api.github.com/events\",\"feeds_url\":\"https://api.github.com/feeds\",\"followers_url\":\"https://api.github.com/user/followers\",\"following_url\":\"https://api.github.com/user/following{/target}\",\"gists_url\":\"https://api.github.com/gists{/gist_id}\",\"hub_url\":\"https://api.github.com/hub\",\"issue_search_url\":\"https://api.github.com/search/issues?q={query}{&page,per_page,sort,order}\",\"issues_url\":\"https://api.github.com/issues\",\"keys_url\":\"https://api.github.com/user/keys\",\"label_searc'"
      ]
     },
     "execution_count": 15,
     "metadata": {},
     "output_type": "execute_result"
    }
   ],
   "source": [
    "response.content[:1000]"
   ]
  },
  {
   "cell_type": "markdown",
   "id": "933fafdc",
   "metadata": {},
   "source": [
    "Query Parameters"
   ]
  },
  {
   "cell_type": "code",
   "execution_count": 24,
   "id": "f774bb15",
   "metadata": {},
   "outputs": [],
   "source": [
    "uri='https://api.github.com/search/repositories'"
   ]
  },
  {
   "cell_type": "code",
   "execution_count": 25,
   "id": "2eb0bde3",
   "metadata": {},
   "outputs": [],
   "source": [
    "params={\"q\":\"requests+language:python\"}"
   ]
  },
  {
   "cell_type": "code",
   "execution_count": 26,
   "id": "b78fab5c",
   "metadata": {},
   "outputs": [],
   "source": [
    "response=requests.get(uri,params=params)"
   ]
  },
  {
   "cell_type": "code",
   "execution_count": 27,
   "id": "6ecff3bd",
   "metadata": {},
   "outputs": [
    {
     "data": {
      "text/plain": [
       "200"
      ]
     },
     "execution_count": 27,
     "metadata": {},
     "output_type": "execute_result"
    }
   ],
   "source": [
    "response.status_code"
   ]
  },
  {
   "cell_type": "code",
   "execution_count": 29,
   "id": "2f3e9a85",
   "metadata": {},
   "outputs": [
    {
     "data": {
      "text/plain": [
       "b'{\"total_count\":263,\"incomplete_results\":false,\"items\":[{\"id\":33210074,\"node_id\":\"MDEwOlJlcG9zaXRvcnkzMzIxMDA3NA==\",\"name\":\"secrules-language-evaluation\",\"full_name\":\"SpiderLabs/secrules-language-evaluation\",\"private\":false,\"owner\":{\"login\":\"SpiderLabs\",\"id\":508521,\"node_id\":\"MDEyOk9yZ2FuaXphdGlvbjUwODUyMQ==\",\"avatar_url\":\"https://avatars.githubusercontent.com/u/508521?v=4\",\"gravatar_id\":\"\",\"url\":\"https://api.github.com/users/SpiderLabs\",\"html_url\":\"https://github.com/SpiderLabs\",\"followers_url\":\"https://api.github.com/users/SpiderLabs/followers\",\"following_url\":\"https://api.github.com/users/SpiderLabs/following{/other_user}\",\"gists_url\":\"https://api.github.com/users/SpiderLabs/gists{/gist_id}\",\"starred_url\":\"https://api.github.com/users/SpiderLabs/starred{/owner}{/repo}\",\"subscriptions_url\":\"https://api.github.com/users/SpiderLabs/subscriptions\",\"organizations_url\":\"https://api.github.com/users/SpiderLabs/orgs\",\"repos_url\":\"https://api.github.com/users/SpiderLabs/repos\",\"events_url\":\"https://api.github.com/users/SpiderLabs/events{/privacy}\",\"received_events_url\":\"https://api.github.com/users/SpiderLabs/received_events\",\"type\":\"Organization\",\"user_view_type\":\"public\",\"site_admin\":false},\"html_url\":\"https://github.com/SpiderLabs/secrules-language-evaluation\",\"description\":\"Set of Python scripts to perform SecRules language evaluation on a given http request.\",\"fork\":false,\"url\":\"https://api.github.com/repos/SpiderLabs/secrules-language-evaluation\",\"forks_url\":\"https://api.github.com/repos/SpiderLabs/secrules-language-evaluation/forks\",\"keys_url\":\"https://api.github.com/repos/SpiderLabs/secrules-language-evaluation/keys{/key_id}\",\"collaborators_url\":\"https://api.github.com/repos/SpiderLabs/secrules-language-evaluation/collaborators{/collaborator}\",\"teams_url\":\"https://api.github.com/repos/SpiderLabs/secrules-language-evaluation/teams\",\"hooks_url\":\"https://api.github.com/repos/SpiderLabs/secrules-language-evaluation/hooks\",\"issue_events_url\":\"https://api.github.com/repos/SpiderLabs/secrules-language-evaluation/issues/events{/number}\",\"events_url\":\"https://api.github.com/repos/SpiderLabs/secrules-language-evaluation/events\",\"assignees_url\":\"https://api.github.com/repos/SpiderLabs/secrules-language-evaluation/assignees{/user}\",\"branches_url\":\"https://api.github.com/repos/SpiderLabs/secrules-language-evaluation/branches{/branch}\",\"tags_url\":\"https://api.github.com/repos/SpiderLabs/secrules-language-evaluation/tags\",\"blobs_url\":\"https://api.github.com/repos/SpiderLabs/secrules-language-evaluation/git/blobs{/sha}\",\"git_tags_url\":\"https://api.github.com/repos/SpiderLabs/secrules-language-evaluation/git/tags{/sha}\",\"git_refs_url\":\"https://api.github.com/repos/SpiderLabs/secrules-language-evaluation/git/refs{/sha}\",\"trees_url\":\"https://api.github.com/repos/SpiderLabs/secrules-language-evaluation/git/trees{/sha}\",\"statuses_url\":\"https://api.github.com/repos/SpiderLabs/secrules-language-evaluation/statuses/{sha}\",\"languages_url\":\"https://api.github.com/repos/SpiderLabs/secrules-language-evaluation/languages\",\"stargazers_url\":\"https://api.github.com/repos/SpiderLabs/secrules-language-evaluation/stargazers\",\"contributors_url\":\"https://api.github.com/repos/SpiderLabs/secrules-language-evaluation/contributors\",\"subscribers_url\":\"https://api.github.com/repos/SpiderLabs/secrules-language-evaluation/subscribers\",\"subscription_url\":\"https://api.github.com/repos/SpiderLabs/secrules-language-evaluation/subscription\",\"commits_url\":\"https://api.github.com/repos/SpiderLabs/secrules-language-evaluation/commits{/sha}\",\"git_commits_url\":\"https://api.github.com/repos/SpiderLabs/secrules-language-evaluation/git/commits{/sha}\",\"comments_url\":\"https://api.github.com/repos/SpiderLabs/secrules-language-evaluation/comments{/number}\",\"issue_comment_url\":\"https://api.github.com/repos/SpiderLabs/secrules-language-evaluation/issues/comments{/number}\",\"contents_url\":\"https://api.github.com/repos/SpiderLabs/secrules-language-evaluation/contents/{+path}\",\"compare_url\":\"https://api.github.com/repos/SpiderLabs/secrules-language-evaluation/compare/{base}...{head}\",\"merges_url\":\"https://api.github.com/repos/SpiderLabs/secrules-language-evaluation/merges\",\"archive_url\":\"https://api.github.com/repos/SpiderLabs/secrules-language-evaluation/{archive_format}{/ref}\",\"downloads_url\":\"https://api.github.com/repos/SpiderLabs/secrules-language-evaluation/downloads\",\"issues_url\":\"https://api.github.com/repos/SpiderLabs/secrules-language-evaluation/issues{/number}\",\"pulls_url\":\"https://api.github.com/repos/SpiderLabs/secrules-language-evaluation/pulls{/number}\",\"milestones_url\":\"https://api.github.com/repos/SpiderLabs/secrules-language-evaluation/milestones{/number}\",\"notifications_url\":\"https://api.github.com/repos/SpiderLabs/secrules-language-evaluation/notifications{?since,all,participating}\",\"labels_url\":\"https://api.github.com/repos/SpiderLabs/secrules-language-evaluation/labels{/name}\",\"releases_url\":\"https://api.github.com/repos/SpiderLabs/secrules-language-e'"
      ]
     },
     "execution_count": 29,
     "metadata": {},
     "output_type": "execute_result"
    }
   ],
   "source": [
    "response.content[:5000]"
   ]
  },
  {
   "cell_type": "markdown",
   "id": "5ce18805",
   "metadata": {},
   "source": [
    "POST METHOD"
   ]
  },
  {
   "cell_type": "code",
   "execution_count": 30,
   "id": "03f0bb98",
   "metadata": {},
   "outputs": [],
   "source": [
    "import requests"
   ]
  },
  {
   "cell_type": "code",
   "execution_count": 31,
   "id": "36297fa3",
   "metadata": {},
   "outputs": [],
   "source": [
    "uri=\"https://httpbin.org/post\""
   ]
  },
  {
   "cell_type": "code",
   "execution_count": 32,
   "id": "5572fd2a",
   "metadata": {},
   "outputs": [],
   "source": [
    "data={\n",
    "\n",
    "    \"username\":\"Rockstar\",\n",
    "    \"password\":\"pass\"\n",
    "}"
   ]
  },
  {
   "cell_type": "code",
   "execution_count": 34,
   "id": "14c1a0a5",
   "metadata": {},
   "outputs": [],
   "source": [
    "response=requests.post(url=uri,data=data)"
   ]
  },
  {
   "cell_type": "code",
   "execution_count": 35,
   "id": "c844544d",
   "metadata": {},
   "outputs": [
    {
     "data": {
      "text/plain": [
       "200"
      ]
     },
     "execution_count": 35,
     "metadata": {},
     "output_type": "execute_result"
    }
   ],
   "source": [
    "response.status_code"
   ]
  },
  {
   "cell_type": "code",
   "execution_count": 36,
   "id": "a52dd1b2",
   "metadata": {},
   "outputs": [
    {
     "data": {
      "text/plain": [
       "b'{\\n  \"args\": {}, \\n  \"data\": \"\", \\n  \"files\": {}, \\n  \"form\": {\\n    \"password\": \"pass\", \\n    \"username\": \"Rockstar\"\\n  }, \\n  \"headers\": {\\n    \"Accept\": \"*/*\", \\n    \"Accept-Encoding\": \"gzip, deflate\", \\n    \"Content-Length\": \"31\", \\n    \"Content-Type\": \"application/x-www-form-urlencoded\", \\n    \"Host\": \"httpbin.org\", \\n    \"User-Agent\": \"python-requests/2.32.3\", \\n    \"X-Amzn-Trace-Id\": \"Root=1-68393f89-45b7008568aed8006fd26806\"\\n  }, \\n  \"json\": null, \\n  \"origin\": \"203.99.145.103\", \\n  \"url\": \"https://httpbin.org/post\"\\n}\\n'"
      ]
     },
     "execution_count": 36,
     "metadata": {},
     "output_type": "execute_result"
    }
   ],
   "source": [
    "response.content"
   ]
  },
  {
   "cell_type": "code",
   "execution_count": 52,
   "id": "e0df6080",
   "metadata": {},
   "outputs": [],
   "source": [
    "def get_data_format(received_data):\n",
    "    json_response=received_data.json()\n",
    "    data_format=json_response['headers']['Content-Type'].split(\"/\")[-1]\n",
    "    print(\"response Data format: \",data_format)\n",
    "    "
   ]
  },
  {
   "cell_type": "code",
   "execution_count": 53,
   "id": "d27ce219",
   "metadata": {},
   "outputs": [
    {
     "data": {
      "text/plain": [
       "{'args': {},\n",
       " 'data': '',\n",
       " 'files': {},\n",
       " 'form': {'password': 'pass', 'username': 'Rockstar'},\n",
       " 'headers': {'Accept': '*/*',\n",
       "  'Accept-Encoding': 'gzip, deflate',\n",
       "  'Content-Length': '31',\n",
       "  'Content-Type': 'application/x-www-form-urlencoded',\n",
       "  'Host': 'httpbin.org',\n",
       "  'User-Agent': 'python-requests/2.32.3',\n",
       "  'X-Amzn-Trace-Id': 'Root=1-68393f89-45b7008568aed8006fd26806'},\n",
       " 'json': None,\n",
       " 'origin': '203.99.145.103',\n",
       " 'url': 'https://httpbin.org/post'}"
      ]
     },
     "execution_count": 53,
     "metadata": {},
     "output_type": "execute_result"
    }
   ],
   "source": [
    "response.json()"
   ]
  },
  {
   "cell_type": "code",
   "execution_count": 54,
   "id": "a5ca81b8",
   "metadata": {},
   "outputs": [
    {
     "data": {
      "text/plain": [
       "'x-www-form-urlencoded'"
      ]
     },
     "execution_count": 54,
     "metadata": {},
     "output_type": "execute_result"
    }
   ],
   "source": [
    "response.json()['headers']['Content-Type'].split(\"/\")[-1]"
   ]
  },
  {
   "cell_type": "code",
   "execution_count": 55,
   "id": "0e2e22df",
   "metadata": {},
   "outputs": [
    {
     "name": "stdout",
     "output_type": "stream",
     "text": [
      "response Data format:  x-www-form-urlencoded\n"
     ]
    }
   ],
   "source": [
    "get_data_format(response)"
   ]
  },
  {
   "cell_type": "code",
   "execution_count": 56,
   "id": "de4d79a2",
   "metadata": {},
   "outputs": [
    {
     "data": {
      "text/plain": [
       "'https://httpbin.org/post'"
      ]
     },
     "execution_count": 56,
     "metadata": {},
     "output_type": "execute_result"
    }
   ],
   "source": [
    "uri"
   ]
  },
  {
   "cell_type": "code",
   "execution_count": 57,
   "id": "a3ef7fa4",
   "metadata": {},
   "outputs": [
    {
     "data": {
      "text/plain": [
       "{'username': 'Rockstar', 'password': 'pass'}"
      ]
     },
     "execution_count": 57,
     "metadata": {},
     "output_type": "execute_result"
    }
   ],
   "source": [
    "data"
   ]
  },
  {
   "cell_type": "code",
   "execution_count": 58,
   "id": "253f66d9",
   "metadata": {},
   "outputs": [],
   "source": [
    "response2=requests.post(uri,json=data)"
   ]
  },
  {
   "cell_type": "code",
   "execution_count": 61,
   "id": "9088e787",
   "metadata": {},
   "outputs": [
    {
     "name": "stdout",
     "output_type": "stream",
     "text": [
      "response Data format:  json\n"
     ]
    }
   ],
   "source": [
    "get_data_format(response2)"
   ]
  },
  {
   "cell_type": "code",
   "execution_count": 62,
   "id": "44ff0e4f",
   "metadata": {},
   "outputs": [
    {
     "data": {
      "text/plain": [
       "{'args': {},\n",
       " 'data': '{\"username\": \"Rockstar\", \"password\": \"pass\"}',\n",
       " 'files': {},\n",
       " 'form': {},\n",
       " 'headers': {'Accept': '*/*',\n",
       "  'Accept-Encoding': 'gzip, deflate',\n",
       "  'Content-Length': '44',\n",
       "  'Content-Type': 'application/json',\n",
       "  'Host': 'httpbin.org',\n",
       "  'User-Agent': 'python-requests/2.32.3',\n",
       "  'X-Amzn-Trace-Id': 'Root=1-683941d1-719621815323fe024d1c5a92'},\n",
       " 'json': {'password': 'pass', 'username': 'Rockstar'},\n",
       " 'origin': '203.99.145.100',\n",
       " 'url': 'https://httpbin.org/post'}"
      ]
     },
     "execution_count": 62,
     "metadata": {},
     "output_type": "execute_result"
    }
   ],
   "source": [
    "response2.json()"
   ]
  },
  {
   "cell_type": "code",
   "execution_count": null,
   "id": "e2247244",
   "metadata": {},
   "outputs": [],
   "source": []
  },
  {
   "cell_type": "markdown",
   "id": "6ad8d0d6",
   "metadata": {},
   "source": [
    "PUT"
   ]
  },
  {
   "cell_type": "code",
   "execution_count": 63,
   "id": "4a53f701",
   "metadata": {},
   "outputs": [
    {
     "data": {
      "text/plain": [
       "'https://httpbin.org/post'"
      ]
     },
     "execution_count": 63,
     "metadata": {},
     "output_type": "execute_result"
    }
   ],
   "source": [
    "uri"
   ]
  },
  {
   "cell_type": "code",
   "execution_count": 64,
   "id": "159d26a4",
   "metadata": {},
   "outputs": [],
   "source": [
    "uri='https://httpbin.org/put'"
   ]
  },
  {
   "cell_type": "code",
   "execution_count": null,
   "id": "eb0cc1cb",
   "metadata": {},
   "outputs": [],
   "source": [
    "data={\n",
    "    \"param1\":\"value1\",\n",
    "    \"param2\":\"value2\"\n",
    "}"
   ]
  },
  {
   "cell_type": "code",
   "execution_count": null,
   "id": "6c5410ba",
   "metadata": {},
   "outputs": [],
   "source": [
    "response3=requests.put(url=uri,json=data) ### Can use either json or data parameter to pass data"
   ]
  },
  {
   "cell_type": "code",
   "execution_count": 73,
   "id": "e084edab",
   "metadata": {},
   "outputs": [
    {
     "data": {
      "text/plain": [
       "<Response [200]>"
      ]
     },
     "execution_count": 73,
     "metadata": {},
     "output_type": "execute_result"
    }
   ],
   "source": [
    "response3"
   ]
  },
  {
   "cell_type": "code",
   "execution_count": 74,
   "id": "94135524",
   "metadata": {},
   "outputs": [
    {
     "data": {
      "text/plain": [
       "b'{\\n  \"args\": {}, \\n  \"data\": \"{\\\\\"param1\\\\\": \\\\\"value1\\\\\", \\\\\"param2\\\\\": \\\\\"value2\\\\\"}\", \\n  \"files\": {}, \\n  \"form\": {}, \\n  \"headers\": {\\n    \"Accept\": \"*/*\", \\n    \"Accept-Encoding\": \"gzip, deflate\", \\n    \"Content-Length\": \"40\", \\n    \"Content-Type\": \"application/json\", \\n    \"Host\": \"httpbin.org\", \\n    \"User-Agent\": \"python-requests/2.32.3\", \\n    \"X-Amzn-Trace-Id\": \"Root=1-68394367-09e50b711e88389f7d61914b\"\\n  }, \\n  \"json\": {\\n    \"param1\": \"value1\", \\n    \"param2\": \"value2\"\\n  }, \\n  \"origin\": \"203.99.145.103\", \\n  \"url\": \"https://httpbin.org/put\"\\n}\\n'"
      ]
     },
     "execution_count": 74,
     "metadata": {},
     "output_type": "execute_result"
    }
   ],
   "source": [
    "response3.content"
   ]
  },
  {
   "cell_type": "code",
   "execution_count": 75,
   "id": "95652076",
   "metadata": {},
   "outputs": [
    {
     "data": {
      "text/plain": [
       "{'args': {},\n",
       " 'data': '{\"param1\": \"value1\", \"param2\": \"value2\"}',\n",
       " 'files': {},\n",
       " 'form': {},\n",
       " 'headers': {'Accept': '*/*',\n",
       "  'Accept-Encoding': 'gzip, deflate',\n",
       "  'Content-Length': '40',\n",
       "  'Content-Type': 'application/json',\n",
       "  'Host': 'httpbin.org',\n",
       "  'User-Agent': 'python-requests/2.32.3',\n",
       "  'X-Amzn-Trace-Id': 'Root=1-68394367-09e50b711e88389f7d61914b'},\n",
       " 'json': {'param1': 'value1', 'param2': 'value2'},\n",
       " 'origin': '203.99.145.103',\n",
       " 'url': 'https://httpbin.org/put'}"
      ]
     },
     "execution_count": 75,
     "metadata": {},
     "output_type": "execute_result"
    }
   ],
   "source": [
    "response3.json()"
   ]
  },
  {
   "cell_type": "markdown",
   "id": "fead993f",
   "metadata": {},
   "source": [
    "##DELETE"
   ]
  },
  {
   "cell_type": "code",
   "execution_count": 77,
   "id": "1eb70ea8",
   "metadata": {},
   "outputs": [],
   "source": [
    "uri='https://httpbin.org/delete'"
   ]
  },
  {
   "cell_type": "code",
   "execution_count": 79,
   "id": "23c3e079",
   "metadata": {},
   "outputs": [
    {
     "data": {
      "text/plain": [
       "'https://httpbin.org/delete'"
      ]
     },
     "execution_count": 79,
     "metadata": {},
     "output_type": "execute_result"
    }
   ],
   "source": [
    "uri"
   ]
  },
  {
   "cell_type": "code",
   "execution_count": 80,
   "id": "c6952eaa",
   "metadata": {},
   "outputs": [],
   "source": [
    "response4=requests.delete(url=uri)"
   ]
  },
  {
   "cell_type": "code",
   "execution_count": 81,
   "id": "3cb8df60",
   "metadata": {},
   "outputs": [
    {
     "data": {
      "text/plain": [
       "<Response [200]>"
      ]
     },
     "execution_count": 81,
     "metadata": {},
     "output_type": "execute_result"
    }
   ],
   "source": [
    "response4"
   ]
  },
  {
   "cell_type": "code",
   "execution_count": 83,
   "id": "f4c845fe",
   "metadata": {},
   "outputs": [
    {
     "data": {
      "text/plain": [
       "b'{\\n  \"args\": {}, \\n  \"data\": \"\", \\n  \"files\": {}, \\n  \"form\": {}, \\n  \"headers\": {\\n    \"Accept\": \"*/*\", \\n    \"Accept-Encoding\": \"gzip, deflate\", \\n    \"Content-Length\": \"0\", \\n    \"Host\": \"httpbin.org\", \\n    \"User-Agent\": \"python-requests/2.32.3\", \\n    \"X-Amzn-Trace-Id\": \"Root=1-683943f1-02bd9d1b4f96b00c53b720d8\"\\n  }, \\n  \"json\": null, \\n  \"origin\": \"203.99.145.102\", \\n  \"url\": \"https://httpbin.org/delete\"\\n}\\n'"
      ]
     },
     "execution_count": 83,
     "metadata": {},
     "output_type": "execute_result"
    }
   ],
   "source": [
    "response4.content"
   ]
  },
  {
   "cell_type": "code",
   "execution_count": 84,
   "id": "4d4f0833",
   "metadata": {},
   "outputs": [
    {
     "data": {
      "text/plain": [
       "{'args': {},\n",
       " 'data': '',\n",
       " 'files': {},\n",
       " 'form': {},\n",
       " 'headers': {'Accept': '*/*',\n",
       "  'Accept-Encoding': 'gzip, deflate',\n",
       "  'Content-Length': '0',\n",
       "  'Host': 'httpbin.org',\n",
       "  'User-Agent': 'python-requests/2.32.3',\n",
       "  'X-Amzn-Trace-Id': 'Root=1-683943f1-02bd9d1b4f96b00c53b720d8'},\n",
       " 'json': None,\n",
       " 'origin': '203.99.145.102',\n",
       " 'url': 'https://httpbin.org/delete'}"
      ]
     },
     "execution_count": 84,
     "metadata": {},
     "output_type": "execute_result"
    }
   ],
   "source": [
    "response4.json()"
   ]
  },
  {
   "cell_type": "code",
   "execution_count": 86,
   "id": "81e66409",
   "metadata": {},
   "outputs": [],
   "source": [
    "headers = {\n",
    "\t'User-Agent': 'Mozilla/5.0 (Windows NT 10.0; Win64; x64)',\n",
    "    'Accept': 'application/json',\n",
    "\t'Authorization': 'Bearer YOUR_ACCESS_TOKEN',\n",
    "\t'Content-Type': 'application/json',\n",
    "\t'X-Custom-Header': 'CustomValue',\n",
    "}\n"
   ]
  },
  {
   "cell_type": "code",
   "execution_count": 87,
   "id": "4e2f21b5",
   "metadata": {},
   "outputs": [],
   "source": [
    "\n",
    "uri = \"https://httpbin.org/headers\""
   ]
  },
  {
   "cell_type": "code",
   "execution_count": 88,
   "id": "6fcf7579",
   "metadata": {},
   "outputs": [],
   "source": [
    "response = requests.get(uri, headers=headers)"
   ]
  },
  {
   "cell_type": "code",
   "execution_count": 89,
   "id": "1a13b06c",
   "metadata": {},
   "outputs": [
    {
     "data": {
      "text/plain": [
       "200"
      ]
     },
     "execution_count": 89,
     "metadata": {},
     "output_type": "execute_result"
    }
   ],
   "source": [
    "response.status_code"
   ]
  },
  {
   "cell_type": "code",
   "execution_count": 90,
   "id": "61d5fd45",
   "metadata": {},
   "outputs": [
    {
     "data": {
      "text/plain": [
       "{'Date': 'Fri, 30 May 2025 05:52:40 GMT', 'Content-Type': 'application/json', 'Content-Length': '387', 'Connection': 'keep-alive', 'Server': 'gunicorn/19.9.0', 'Access-Control-Allow-Origin': '*', 'Access-Control-Allow-Credentials': 'true'}"
      ]
     },
     "execution_count": 90,
     "metadata": {},
     "output_type": "execute_result"
    }
   ],
   "source": [
    "\n",
    "\n",
    "response.headers\n",
    "\n"
   ]
  },
  {
   "cell_type": "code",
   "execution_count": 91,
   "id": "78dc9d09",
   "metadata": {},
   "outputs": [
    {
     "data": {
      "text/plain": [
       "requests.structures.CaseInsensitiveDict"
      ]
     },
     "execution_count": 91,
     "metadata": {},
     "output_type": "execute_result"
    }
   ],
   "source": [
    "type(response.headers)"
   ]
  },
  {
   "cell_type": "code",
   "execution_count": 92,
   "id": "ed775221",
   "metadata": {},
   "outputs": [
    {
     "data": {
      "text/plain": [
       "{'Date': 'Fri, 30 May 2025 05:52:40 GMT',\n",
       " 'Content-Type': 'application/json',\n",
       " 'Content-Length': '387',\n",
       " 'Connection': 'keep-alive',\n",
       " 'Server': 'gunicorn/19.9.0',\n",
       " 'Access-Control-Allow-Origin': '*',\n",
       " 'Access-Control-Allow-Credentials': 'true'}"
      ]
     },
     "execution_count": 92,
     "metadata": {},
     "output_type": "execute_result"
    }
   ],
   "source": [
    "\n",
    "\n",
    "dict(response.headers)\n",
    "\n"
   ]
  },
  {
   "cell_type": "code",
   "execution_count": 93,
   "id": "bdfbf384",
   "metadata": {},
   "outputs": [
    {
     "data": {
      "text/plain": [
       "{'headers': {'Accept': 'application/json',\n",
       "  'Accept-Encoding': 'gzip, deflate',\n",
       "  'Authorization': 'Bearer YOUR_ACCESS_TOKEN',\n",
       "  'Content-Type': 'application/json',\n",
       "  'Host': 'httpbin.org',\n",
       "  'User-Agent': 'Mozilla/5.0 (Windows NT 10.0; Win64; x64)',\n",
       "  'X-Amzn-Trace-Id': 'Root=1-683947a7-519cfd0f0779761d7fd1f9b7',\n",
       "  'X-Custom-Header': 'CustomValue'}}"
      ]
     },
     "execution_count": 93,
     "metadata": {},
     "output_type": "execute_result"
    }
   ],
   "source": [
    "\n",
    "\n",
    "response.json()\n",
    "\n"
   ]
  },
  {
   "cell_type": "code",
   "execution_count": 94,
   "id": "a6aac35d",
   "metadata": {},
   "outputs": [
    {
     "name": "stdout",
     "output_type": "stream",
     "text": [
      "Accept          : application/json\n",
      "Accept-Encoding : gzip, deflate\n",
      "Authorization   : Bearer YOUR_ACCESS_TOKEN\n",
      "Content-Type    : application/json\n",
      "Host            : httpbin.org\n",
      "User-Agent      : Mozilla/5.0 (Windows NT 10.0; Win64; x64)\n",
      "X-Amzn-Trace-Id : Root=1-683947a7-519cfd0f0779761d7fd1f9b7\n",
      "X-Custom-Header : CustomValue\n"
     ]
    }
   ],
   "source": [
    "for header, value in response.json()['headers'].items():\n",
    "\tprint(f\"{header:<16}: {value}\")"
   ]
  },
  {
   "cell_type": "markdown",
   "id": "c5171de3",
   "metadata": {},
   "source": [
    "REPONSE OBJECT"
   ]
  },
  {
   "cell_type": "code",
   "execution_count": 97,
   "id": "3530ebb8",
   "metadata": {},
   "outputs": [],
   "source": [
    "uri='https://api.github.com'"
   ]
  },
  {
   "cell_type": "code",
   "execution_count": 98,
   "id": "894850f9",
   "metadata": {},
   "outputs": [],
   "source": [
    "response5=requests.get(uri)"
   ]
  },
  {
   "cell_type": "code",
   "execution_count": 99,
   "id": "47d180e9",
   "metadata": {},
   "outputs": [
    {
     "data": {
      "text/plain": [
       "<Response [200]>"
      ]
     },
     "execution_count": 99,
     "metadata": {},
     "output_type": "execute_result"
    }
   ],
   "source": [
    "response5"
   ]
  },
  {
   "cell_type": "code",
   "execution_count": 101,
   "id": "9987b5a9",
   "metadata": {},
   "outputs": [
    {
     "data": {
      "text/plain": [
       "200"
      ]
     },
     "execution_count": 101,
     "metadata": {},
     "output_type": "execute_result"
    }
   ],
   "source": [
    "response5.status_code"
   ]
  },
  {
   "cell_type": "code",
   "execution_count": 102,
   "id": "ae08701e",
   "metadata": {},
   "outputs": [
    {
     "data": {
      "text/plain": [
       "int"
      ]
     },
     "execution_count": 102,
     "metadata": {},
     "output_type": "execute_result"
    }
   ],
   "source": [
    "type(response5.status_code)"
   ]
  },
  {
   "cell_type": "code",
   "execution_count": 103,
   "id": "63e89499",
   "metadata": {},
   "outputs": [
    {
     "name": "stdout",
     "output_type": "stream",
     "text": [
      "Successful\n"
     ]
    }
   ],
   "source": [
    "if response5.status_code==200:\n",
    "    print(\"Successful\")\n",
    "else:\n",
    "    print(unsucessful)"
   ]
  },
  {
   "cell_type": "code",
   "execution_count": null,
   "id": "a3df9b32",
   "metadata": {},
   "outputs": [
    {
     "data": {
      "text/plain": [
       "'{\"current_user_url\":\"https://api.github.com/user\",\"current_user_authorizations_html_url\":\"https://github.com/settings/connections/applications{/client_id}\",\"authorizations_url\":\"https://api.github.com/authorizations\",\"code_search_url\":\"https://api.github.com/search/code?q={query}{&page,per_page,sort,order}\",\"commit_search_url\":\"https://api.github.com/search/commits?q={query}{&page,per_page,sort,order}\",\"emails_url\":\"https://api.github.com/user/emails\",\"emojis_url\":\"https://api.github.com/emojis\",\"events_url\":\"https://api.github.com/events\",\"feeds_url\":\"https://api.github.com/feeds\",\"followers_url\":\"https://api.github.com/user/followers\",\"following_url\":\"https://api.github.com/user/following{/target}\",\"gists_url\":\"https://api.github.com/gists{/gist_id}\",\"hub_url\":\"https://api.github.com/hub\",\"issue_search_url\":\"https://api.github.com/search/issues?q={query}{&page,per_page,sort,order}\",\"issues_url\":\"https://api.github.com/issues\",\"keys_url\":\"https://api.github.com/user/keys\",\"label_search_url\":\"https://api.github.com/search/labels?q={query}&repository_id={repository_id}{&page,per_page}\",\"notifications_url\":\"https://api.github.com/notifications\",\"organization_url\":\"https://api.github.com/orgs/{org}\",\"organization_repositories_url\":\"https://api.github.com/orgs/{org}/repos{?type,page,per_page,sort}\",\"organization_teams_url\":\"https://api.github.com/orgs/{org}/teams\",\"public_gists_url\":\"https://api.github.com/gists/public\",\"rate_limit_url\":\"https://api.github.com/rate_limit\",\"repository_url\":\"https://api.github.com/repos/{owner}/{repo}\",\"repository_search_url\":\"https://api.github.com/search/repositories?q={query}{&page,per_page,sort,order}\",\"current_user_repositories_url\":\"https://api.github.com/user/repos{?type,page,per_page,sort}\",\"starred_url\":\"https://api.github.com/user/starred{/owner}{/repo}\",\"starred_gists_url\":\"https://api.github.com/gists/starred\",\"topic_search_url\":\"https://api.github.com/search/topics?q={query}{&page,per_page}\",\"user_url\":\"https://api.github.com/users/{user}\",\"user_organizations_url\":\"https://api.github.com/user/orgs\",\"user_repositories_url\":\"https://api.github.com/users/{user}/repos{?type,page,per_page,sort}\",\"user_search_url\":\"https://api.github.com/search/users?q={query}{&page,per_page,sort,order}\"}'"
      ]
     },
     "execution_count": 105,
     "metadata": {},
     "output_type": "execute_result"
    }
   ],
   "source": [
    "response5.text"
   ]
  },
  {
   "cell_type": "code",
   "execution_count": 107,
   "id": "8180fdc3",
   "metadata": {},
   "outputs": [
    {
     "data": {
      "text/plain": [
       "str"
      ]
     },
     "execution_count": 107,
     "metadata": {},
     "output_type": "execute_result"
    }
   ],
   "source": [
    "type(response5.text)"
   ]
  },
  {
   "cell_type": "code",
   "execution_count": 106,
   "id": "60514fd3",
   "metadata": {},
   "outputs": [
    {
     "data": {
      "text/plain": [
       "'{\"current_user_url\":\"https://api.github.com/user\",\"current_user_authorizations_html_url\":\"https://gi'"
      ]
     },
     "execution_count": 106,
     "metadata": {},
     "output_type": "execute_result"
    }
   ],
   "source": [
    "response5.text[:100]"
   ]
  },
  {
   "cell_type": "code",
   "execution_count": 108,
   "id": "5886d96b",
   "metadata": {},
   "outputs": [
    {
     "data": {
      "text/plain": [
       "b'{\"current_user_url\":\"https://api.github.com/user\",\"current_user_authorizations_html_url\":\"https://github.com/settings/connections/applications{/client_id}\",\"authorizations_url\":\"https://api.github.com/authorizations\",\"code_search_url\":\"https://api.github.com/search/code?q={query}{&page,per_page,sort,order}\",\"commit_search_url\":\"https://api.github.com/search/commits?q={query}{&page,per_page,sort,order}\",\"emails_url\":\"https://api.github.com/user/emails\",\"emojis_url\":\"https://api.github.com/emojis\",\"events_url\":\"https://api.github.com/events\",\"feeds_url\":\"https://api.github.com/feeds\",\"followers_url\":\"https://api.github.com/user/followers\",\"following_url\":\"https://api.github.com/user/following{/target}\",\"gists_url\":\"https://api.github.com/gists{/gist_id}\",\"hub_url\":\"https://api.github.com/hub\",\"issue_search_url\":\"https://api.github.com/search/issues?q={query}{&page,per_page,sort,order}\",\"issues_url\":\"https://api.github.com/issues\",\"keys_url\":\"https://api.github.com/user/keys\",\"label_search_url\":\"https://api.github.com/search/labels?q={query}&repository_id={repository_id}{&page,per_page}\",\"notifications_url\":\"https://api.github.com/notifications\",\"organization_url\":\"https://api.github.com/orgs/{org}\",\"organization_repositories_url\":\"https://api.github.com/orgs/{org}/repos{?type,page,per_page,sort}\",\"organization_teams_url\":\"https://api.github.com/orgs/{org}/teams\",\"public_gists_url\":\"https://api.github.com/gists/public\",\"rate_limit_url\":\"https://api.github.com/rate_limit\",\"repository_url\":\"https://api.github.com/repos/{owner}/{repo}\",\"repository_search_url\":\"https://api.github.com/search/repositories?q={query}{&page,per_page,sort,order}\",\"current_user_repositories_url\":\"https://api.github.com/user/repos{?type,page,per_page,sort}\",\"starred_url\":\"https://api.github.com/user/starred{/owner}{/repo}\",\"starred_gists_url\":\"https://api.github.com/gists/starred\",\"topic_search_url\":\"https://api.github.com/search/topics?q={query}{&page,per_page}\",\"user_url\":\"https://api.github.com/users/{user}\",\"user_organizations_url\":\"https://api.github.com/user/orgs\",\"user_repositories_url\":\"https://api.github.com/users/{user}/repos{?type,page,per_page,sort}\",\"user_search_url\":\"https://api.github.com/search/users?q={query}{&page,per_page,sort,order}\"}'"
      ]
     },
     "execution_count": 108,
     "metadata": {},
     "output_type": "execute_result"
    }
   ],
   "source": [
    "response5.content"
   ]
  },
  {
   "cell_type": "code",
   "execution_count": 109,
   "id": "d254daaa",
   "metadata": {},
   "outputs": [
    {
     "data": {
      "text/plain": [
       "bytes"
      ]
     },
     "execution_count": 109,
     "metadata": {},
     "output_type": "execute_result"
    }
   ],
   "source": [
    "type(response5.content)"
   ]
  },
  {
   "cell_type": "code",
   "execution_count": 110,
   "id": "476978b6",
   "metadata": {},
   "outputs": [
    {
     "data": {
      "text/plain": [
       "{'Date': 'Fri, 30 May 2025 06:00:10 GMT', 'Content-Type': 'application/json; charset=utf-8', 'Cache-Control': 'public, max-age=60, s-maxage=60', 'Vary': 'Accept,Accept-Encoding, Accept, X-Requested-With', 'ETag': 'W/\"4f825cc84e1c733059d46e76e6df9db557ae5254f9625dfe8e1b09499c449438\"', 'X-GitHub-Media-Type': 'github.v3; format=json', 'x-github-api-version-selected': '2022-11-28', 'Access-Control-Expose-Headers': 'ETag, Link, Location, Retry-After, X-GitHub-OTP, X-RateLimit-Limit, X-RateLimit-Remaining, X-RateLimit-Used, X-RateLimit-Resource, X-RateLimit-Reset, X-OAuth-Scopes, X-Accepted-OAuth-Scopes, X-Poll-Interval, X-GitHub-Media-Type, X-GitHub-SSO, X-GitHub-Request-Id, Deprecation, Sunset', 'Access-Control-Allow-Origin': '*', 'Strict-Transport-Security': 'max-age=31536000; includeSubdomains; preload', 'X-Frame-Options': 'deny', 'X-Content-Type-Options': 'nosniff', 'X-XSS-Protection': '0', 'Referrer-Policy': 'origin-when-cross-origin, strict-origin-when-cross-origin', 'Content-Security-Policy': \"default-src 'none'\", 'Content-Encoding': 'gzip', 'Server': 'github.com', 'Accept-Ranges': 'bytes', 'X-RateLimit-Limit': '60', 'X-RateLimit-Remaining': '59', 'X-RateLimit-Reset': '1748588410', 'X-RateLimit-Resource': 'core', 'X-RateLimit-Used': '1', 'Content-Length': '510', 'X-GitHub-Request-Id': 'C2D6:12A587:188D5C:1D4BD6:6839496A'}"
      ]
     },
     "execution_count": 110,
     "metadata": {},
     "output_type": "execute_result"
    }
   ],
   "source": [
    "response5.headers"
   ]
  },
  {
   "cell_type": "code",
   "execution_count": 111,
   "id": "6fca4b90",
   "metadata": {},
   "outputs": [
    {
     "data": {
      "text/plain": [
       "requests.structures.CaseInsensitiveDict"
      ]
     },
     "execution_count": 111,
     "metadata": {},
     "output_type": "execute_result"
    }
   ],
   "source": [
    "type(response5.headers)"
   ]
  },
  {
   "cell_type": "code",
   "execution_count": 112,
   "id": "06053b09",
   "metadata": {},
   "outputs": [
    {
     "data": {
      "text/plain": [
       "{'Date': 'Fri, 30 May 2025 06:00:10 GMT',\n",
       " 'Content-Type': 'application/json; charset=utf-8',\n",
       " 'Cache-Control': 'public, max-age=60, s-maxage=60',\n",
       " 'Vary': 'Accept,Accept-Encoding, Accept, X-Requested-With',\n",
       " 'ETag': 'W/\"4f825cc84e1c733059d46e76e6df9db557ae5254f9625dfe8e1b09499c449438\"',\n",
       " 'X-GitHub-Media-Type': 'github.v3; format=json',\n",
       " 'x-github-api-version-selected': '2022-11-28',\n",
       " 'Access-Control-Expose-Headers': 'ETag, Link, Location, Retry-After, X-GitHub-OTP, X-RateLimit-Limit, X-RateLimit-Remaining, X-RateLimit-Used, X-RateLimit-Resource, X-RateLimit-Reset, X-OAuth-Scopes, X-Accepted-OAuth-Scopes, X-Poll-Interval, X-GitHub-Media-Type, X-GitHub-SSO, X-GitHub-Request-Id, Deprecation, Sunset',\n",
       " 'Access-Control-Allow-Origin': '*',\n",
       " 'Strict-Transport-Security': 'max-age=31536000; includeSubdomains; preload',\n",
       " 'X-Frame-Options': 'deny',\n",
       " 'X-Content-Type-Options': 'nosniff',\n",
       " 'X-XSS-Protection': '0',\n",
       " 'Referrer-Policy': 'origin-when-cross-origin, strict-origin-when-cross-origin',\n",
       " 'Content-Security-Policy': \"default-src 'none'\",\n",
       " 'Content-Encoding': 'gzip',\n",
       " 'Server': 'github.com',\n",
       " 'Accept-Ranges': 'bytes',\n",
       " 'X-RateLimit-Limit': '60',\n",
       " 'X-RateLimit-Remaining': '59',\n",
       " 'X-RateLimit-Reset': '1748588410',\n",
       " 'X-RateLimit-Resource': 'core',\n",
       " 'X-RateLimit-Used': '1',\n",
       " 'Content-Length': '510',\n",
       " 'X-GitHub-Request-Id': 'C2D6:12A587:188D5C:1D4BD6:6839496A'}"
      ]
     },
     "execution_count": 112,
     "metadata": {},
     "output_type": "execute_result"
    }
   ],
   "source": [
    "dict(response5.headers)"
   ]
  },
  {
   "cell_type": "code",
   "execution_count": 113,
   "id": "b8834eae",
   "metadata": {},
   "outputs": [
    {
     "data": {
      "text/plain": [
       "{'current_user_url': 'https://api.github.com/user',\n",
       " 'current_user_authorizations_html_url': 'https://github.com/settings/connections/applications{/client_id}',\n",
       " 'authorizations_url': 'https://api.github.com/authorizations',\n",
       " 'code_search_url': 'https://api.github.com/search/code?q={query}{&page,per_page,sort,order}',\n",
       " 'commit_search_url': 'https://api.github.com/search/commits?q={query}{&page,per_page,sort,order}',\n",
       " 'emails_url': 'https://api.github.com/user/emails',\n",
       " 'emojis_url': 'https://api.github.com/emojis',\n",
       " 'events_url': 'https://api.github.com/events',\n",
       " 'feeds_url': 'https://api.github.com/feeds',\n",
       " 'followers_url': 'https://api.github.com/user/followers',\n",
       " 'following_url': 'https://api.github.com/user/following{/target}',\n",
       " 'gists_url': 'https://api.github.com/gists{/gist_id}',\n",
       " 'hub_url': 'https://api.github.com/hub',\n",
       " 'issue_search_url': 'https://api.github.com/search/issues?q={query}{&page,per_page,sort,order}',\n",
       " 'issues_url': 'https://api.github.com/issues',\n",
       " 'keys_url': 'https://api.github.com/user/keys',\n",
       " 'label_search_url': 'https://api.github.com/search/labels?q={query}&repository_id={repository_id}{&page,per_page}',\n",
       " 'notifications_url': 'https://api.github.com/notifications',\n",
       " 'organization_url': 'https://api.github.com/orgs/{org}',\n",
       " 'organization_repositories_url': 'https://api.github.com/orgs/{org}/repos{?type,page,per_page,sort}',\n",
       " 'organization_teams_url': 'https://api.github.com/orgs/{org}/teams',\n",
       " 'public_gists_url': 'https://api.github.com/gists/public',\n",
       " 'rate_limit_url': 'https://api.github.com/rate_limit',\n",
       " 'repository_url': 'https://api.github.com/repos/{owner}/{repo}',\n",
       " 'repository_search_url': 'https://api.github.com/search/repositories?q={query}{&page,per_page,sort,order}',\n",
       " 'current_user_repositories_url': 'https://api.github.com/user/repos{?type,page,per_page,sort}',\n",
       " 'starred_url': 'https://api.github.com/user/starred{/owner}{/repo}',\n",
       " 'starred_gists_url': 'https://api.github.com/gists/starred',\n",
       " 'topic_search_url': 'https://api.github.com/search/topics?q={query}{&page,per_page}',\n",
       " 'user_url': 'https://api.github.com/users/{user}',\n",
       " 'user_organizations_url': 'https://api.github.com/user/orgs',\n",
       " 'user_repositories_url': 'https://api.github.com/users/{user}/repos{?type,page,per_page,sort}',\n",
       " 'user_search_url': 'https://api.github.com/search/users?q={query}{&page,per_page,sort,order}'}"
      ]
     },
     "execution_count": 113,
     "metadata": {},
     "output_type": "execute_result"
    }
   ],
   "source": [
    "response5.json()"
   ]
  },
  {
   "cell_type": "code",
   "execution_count": 115,
   "id": "f51bf8a1",
   "metadata": {},
   "outputs": [
    {
     "name": "stdout",
     "output_type": "stream",
     "text": [
      "Date                                                    : Fri, 30 May 2025 06:00:10 GMT\n",
      "Content-Type                                            : application/json; charset=utf-8\n",
      "Cache-Control                                           : public, max-age=60, s-maxage=60\n",
      "Vary                                                    : Accept,Accept-Encoding, Accept, X-Requested-With\n",
      "ETag                                                    : W/\"4f825cc84e1c733059d46e76e6df9db557ae5254f9625dfe8e1b09499c449438\"\n",
      "X-GitHub-Media-Type                                     : github.v3; format=json\n",
      "x-github-api-version-selected                           : 2022-11-28\n",
      "Access-Control-Expose-Headers                           : ETag, Link, Location, Retry-After, X-GitHub-OTP, X-RateLimit-Limit, X-RateLimit-Remaining, X-RateLimit-Used, X-RateLimit-Resource, X-RateLimit-Reset, X-OAuth-Scopes, X-Accepted-OAuth-Scopes, X-Poll-Interval, X-GitHub-Media-Type, X-GitHub-SSO, X-GitHub-Request-Id, Deprecation, Sunset\n",
      "Access-Control-Allow-Origin                             : *\n",
      "Strict-Transport-Security                               : max-age=31536000; includeSubdomains; preload\n",
      "X-Frame-Options                                         : deny\n",
      "X-Content-Type-Options                                  : nosniff\n",
      "X-XSS-Protection                                        : 0\n",
      "Referrer-Policy                                         : origin-when-cross-origin, strict-origin-when-cross-origin\n",
      "Content-Security-Policy                                 : default-src 'none'\n",
      "Content-Encoding                                        : gzip\n",
      "Server                                                  : github.com\n",
      "Accept-Ranges                                           : bytes\n",
      "X-RateLimit-Limit                                       : 60\n",
      "X-RateLimit-Remaining                                   : 59\n",
      "X-RateLimit-Reset                                       : 1748588410\n",
      "X-RateLimit-Resource                                    : core\n",
      "X-RateLimit-Used                                        : 1\n",
      "Content-Length                                          : 510\n",
      "X-GitHub-Request-Id                                     : C2D6:12A587:188D5C:1D4BD6:6839496A\n"
     ]
    }
   ],
   "source": [
    "for header, value in dict(response5.headers).items():\n",
    "\tprint(f\"{header:<56}: {value}\")"
   ]
  },
  {
   "cell_type": "code",
   "execution_count": 116,
   "id": "e7eb772a",
   "metadata": {},
   "outputs": [
    {
     "data": {
      "text/plain": [
       "{'current_user_url': 'https://api.github.com/user',\n",
       " 'current_user_authorizations_html_url': 'https://github.com/settings/connections/applications{/client_id}',\n",
       " 'authorizations_url': 'https://api.github.com/authorizations',\n",
       " 'code_search_url': 'https://api.github.com/search/code?q={query}{&page,per_page,sort,order}',\n",
       " 'commit_search_url': 'https://api.github.com/search/commits?q={query}{&page,per_page,sort,order}',\n",
       " 'emails_url': 'https://api.github.com/user/emails',\n",
       " 'emojis_url': 'https://api.github.com/emojis',\n",
       " 'events_url': 'https://api.github.com/events',\n",
       " 'feeds_url': 'https://api.github.com/feeds',\n",
       " 'followers_url': 'https://api.github.com/user/followers',\n",
       " 'following_url': 'https://api.github.com/user/following{/target}',\n",
       " 'gists_url': 'https://api.github.com/gists{/gist_id}',\n",
       " 'hub_url': 'https://api.github.com/hub',\n",
       " 'issue_search_url': 'https://api.github.com/search/issues?q={query}{&page,per_page,sort,order}',\n",
       " 'issues_url': 'https://api.github.com/issues',\n",
       " 'keys_url': 'https://api.github.com/user/keys',\n",
       " 'label_search_url': 'https://api.github.com/search/labels?q={query}&repository_id={repository_id}{&page,per_page}',\n",
       " 'notifications_url': 'https://api.github.com/notifications',\n",
       " 'organization_url': 'https://api.github.com/orgs/{org}',\n",
       " 'organization_repositories_url': 'https://api.github.com/orgs/{org}/repos{?type,page,per_page,sort}',\n",
       " 'organization_teams_url': 'https://api.github.com/orgs/{org}/teams',\n",
       " 'public_gists_url': 'https://api.github.com/gists/public',\n",
       " 'rate_limit_url': 'https://api.github.com/rate_limit',\n",
       " 'repository_url': 'https://api.github.com/repos/{owner}/{repo}',\n",
       " 'repository_search_url': 'https://api.github.com/search/repositories?q={query}{&page,per_page,sort,order}',\n",
       " 'current_user_repositories_url': 'https://api.github.com/user/repos{?type,page,per_page,sort}',\n",
       " 'starred_url': 'https://api.github.com/user/starred{/owner}{/repo}',\n",
       " 'starred_gists_url': 'https://api.github.com/gists/starred',\n",
       " 'topic_search_url': 'https://api.github.com/search/topics?q={query}{&page,per_page}',\n",
       " 'user_url': 'https://api.github.com/users/{user}',\n",
       " 'user_organizations_url': 'https://api.github.com/user/orgs',\n",
       " 'user_repositories_url': 'https://api.github.com/users/{user}/repos{?type,page,per_page,sort}',\n",
       " 'user_search_url': 'https://api.github.com/search/users?q={query}{&page,per_page,sort,order}'}"
      ]
     },
     "execution_count": 116,
     "metadata": {},
     "output_type": "execute_result"
    }
   ],
   "source": [
    "response5.json()"
   ]
  },
  {
   "cell_type": "code",
   "execution_count": null,
   "id": "d342b2ee",
   "metadata": {},
   "outputs": [],
   "source": [
    "try:\n",
    "\tresponse = requests.get(url)\n",
    "\tresponse.raise_for_status()\n",
    "except Exception as e:\n",
    "\tprint(e)\n",
    "else:\n",
    "\tstatus_code = response.status_code\n",
    "\tprint(f\"Status Code: {status_code}\")\n",
    "\tif status_code == 200:\n",
    "\t\tprint(\"\\nSuccessful GET request!\")\n",
    "\t\tposts = response.json()\n",
    "\t\tfor i in range(3):\n",
    "\t\t\tprint(f\"\\nPost {i + 1}:\")\n",
    "\t\t\tprint(posts[i])\n",
    "\telse:\n",
    "\t\tprint(\"Unsuccessful GET request!\")\n",
    "\n"
   ]
  },
  {
   "cell_type": "markdown",
   "id": "6ae20e21",
   "metadata": {},
   "source": [
    "WOking with public api"
   ]
  },
  {
   "cell_type": "markdown",
   "id": "14593e72",
   "metadata": {},
   "source": [
    "url = \"https://jsonplaceholder.typicode.com/posts\""
   ]
  },
  {
   "cell_type": "code",
   "execution_count": 117,
   "id": "eead3f69",
   "metadata": {},
   "outputs": [],
   "source": [
    "url = \"https://jsonplaceholder.typicode.com/posts\""
   ]
  },
  {
   "cell_type": "code",
   "execution_count": 118,
   "id": "16677355",
   "metadata": {},
   "outputs": [
    {
     "name": "stdout",
     "output_type": "stream",
     "text": [
      "Status Code: 200\n",
      "\n",
      "Successful GET request!\n",
      "\n",
      "Post 1:\n",
      "{'userId': 1, 'id': 1, 'title': 'sunt aut facere repellat provident occaecati excepturi optio reprehenderit', 'body': 'quia et suscipit\\nsuscipit recusandae consequuntur expedita et cum\\nreprehenderit molestiae ut ut quas totam\\nnostrum rerum est autem sunt rem eveniet architecto'}\n",
      "\n",
      "Post 2:\n",
      "{'userId': 1, 'id': 2, 'title': 'qui est esse', 'body': 'est rerum tempore vitae\\nsequi sint nihil reprehenderit dolor beatae ea dolores neque\\nfugiat blanditiis voluptate porro vel nihil molestiae ut reiciendis\\nqui aperiam non debitis possimus qui neque nisi nulla'}\n",
      "\n",
      "Post 3:\n",
      "{'userId': 1, 'id': 3, 'title': 'ea molestias quasi exercitationem repellat qui ipsa sit aut', 'body': 'et iusto sed quo iure\\nvoluptatem occaecati omnis eligendi aut ad\\nvoluptatem doloribus vel accusantium quis pariatur\\nmolestiae porro eius odio et labore et velit aut'}\n"
     ]
    }
   ],
   "source": [
    "try:\n",
    "\tresponse = requests.get(url)\n",
    "\tresponse.raise_for_status()\n",
    "except Exception as e:\n",
    "\tprint(e)\n",
    "else:\n",
    "\tstatus_code = response.status_code\n",
    "\tprint(f\"Status Code: {status_code}\")\n",
    "\tif status_code == 200:\n",
    "\t\tprint(\"\\nSuccessful GET request!\")\n",
    "\t\tposts = response.json()\n",
    "\t\tfor i in range(3):\n",
    "\t\t\tprint(f\"\\nPost {i + 1}:\")\n",
    "\t\t\tprint(posts[i])\n",
    "\telse:\n",
    "\t\tprint(\"Unsuccessful GET request!\")\n"
   ]
  },
  {
   "cell_type": "code",
   "execution_count": 119,
   "id": "eeb76020",
   "metadata": {},
   "outputs": [],
   "source": [
    "new_post = {\n",
    "\t\"title\": \"Sample Post\",\n",
    "\t\"body\": \"This is a sample post\",\n",
    "\t\"userId\": 101\n",
    "}"
   ]
  },
  {
   "cell_type": "code",
   "execution_count": 120,
   "id": "d3d9cd18",
   "metadata": {},
   "outputs": [
    {
     "name": "stdout",
     "output_type": "stream",
     "text": [
      "Status Code: 201\n",
      "\n",
      "Successful POST request!\n",
      "\n",
      "Post:\n",
      "{'title': 'Sample Post', 'body': 'This is a sample post', 'userId': '101', 'id': 101}\n"
     ]
    }
   ],
   "source": [
    "try:\n",
    "\tresponse = requests.post(url, data=new_post)\n",
    "\tresponse.raise_for_status()\n",
    "except Exception as e:\n",
    "\tprint(e)\n",
    "else:\n",
    "\tstatus_code = response.status_code\n",
    "\tif status_code == 201:\n",
    "\t\tprint(f\"Status Code: {status_code}\")\n",
    "\t\tprint(\"\\nSuccessful POST request!\")\n",
    "\t\tpost = response.json()\n",
    "\t\tprint(\"\\nPost:\")\n",
    "\t\tprint(post)\n",
    "\telse:\n",
    "\t\tprint(f\"Status Code: {status_code}\")\n",
    "\t\tprint(\"\\nUnsuccessful POST request!\")\n",
    "\n"
   ]
  },
  {
   "cell_type": "code",
   "execution_count": null,
   "id": "c5028288",
   "metadata": {},
   "outputs": [],
   "source": []
  }
 ],
 "metadata": {
  "kernelspec": {
   "display_name": "scrapping",
   "language": "python",
   "name": "python3"
  },
  "language_info": {
   "codemirror_mode": {
    "name": "ipython",
    "version": 3
   },
   "file_extension": ".py",
   "mimetype": "text/x-python",
   "name": "python",
   "nbconvert_exporter": "python",
   "pygments_lexer": "ipython3",
   "version": "3.13.3"
  }
 },
 "nbformat": 4,
 "nbformat_minor": 5
}
